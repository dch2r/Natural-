{
 "cells": [
  {
   "cell_type": "markdown",
   "id": "1969d73d",
   "metadata": {},
   "source": [
    "## Task1"
   ]
  },
  {
   "cell_type": "code",
   "execution_count": 19,
   "id": "83b7331d",
   "metadata": {},
   "outputs": [
    {
     "data": {
      "text/plain": [
       "CountVectorizer(binary=True)"
      ]
     },
     "execution_count": 19,
     "metadata": {},
     "output_type": "execute_result"
    }
   ],
   "source": [
    "from sklearn.feature_extraction.text import CountVectorizer\n",
    "vect = CountVectorizer(binary=True)\n",
    "vect"
   ]
  },
  {
   "cell_type": "code",
   "execution_count": 26,
   "id": "84eec4a8",
   "metadata": {},
   "outputs": [],
   "source": [
    "corpus = [\"NLP is awesome\", \"This is Diwesh Chaurasia in the class\",\"The quick brown fox jumped over the lazy dog\"]"
   ]
  },
  {
   "cell_type": "code",
   "execution_count": 37,
   "id": "c3b3c79a",
   "metadata": {},
   "outputs": [
    {
     "data": {
      "text/plain": [
       "CountVectorizer(binary=True)"
      ]
     },
     "execution_count": 37,
     "metadata": {},
     "output_type": "execute_result"
    }
   ],
   "source": [
    "vect.fit(corpus) #vect.fit_transform(corpus) "
   ]
  },
  {
   "cell_type": "code",
   "execution_count": 21,
   "id": "3d47e0d4",
   "metadata": {},
   "outputs": [
    {
     "data": {
      "text/plain": [
       "{'nlp': 11,\n",
       " 'is': 8,\n",
       " 'awesome': 0,\n",
       " 'this': 15,\n",
       " 'diwesh': 4,\n",
       " 'chaurasia': 2,\n",
       " 'in': 7,\n",
       " 'the': 14,\n",
       " 'class': 3,\n",
       " 'quick': 13,\n",
       " 'brown': 1,\n",
       " 'fox': 6,\n",
       " 'jumped': 9,\n",
       " 'over': 12,\n",
       " 'lazy': 10,\n",
       " 'dog': 5}"
      ]
     },
     "execution_count": 21,
     "metadata": {},
     "output_type": "execute_result"
    }
   ],
   "source": [
    "vocab = vect.vocabulary_\n",
    "vocab"
   ]
  },
  {
   "cell_type": "code",
   "execution_count": 22,
   "id": "6b37e3c7",
   "metadata": {},
   "outputs": [
    {
     "name": "stdout",
     "output_type": "stream",
     "text": [
      "awesome:0\n",
      "brown:1\n",
      "chaurasia:2\n",
      "class:3\n",
      "diwesh:4\n",
      "dog:5\n",
      "fox:6\n",
      "in:7\n",
      "is:8\n",
      "jumped:9\n",
      "lazy:10\n",
      "nlp:11\n",
      "over:12\n",
      "quick:13\n",
      "the:14\n",
      "this:15\n"
     ]
    }
   ],
   "source": [
    "for key in sorted(vocab.keys()):\n",
    "    print(\"{}:{}\".format(key,vocab[key]))"
   ]
  },
  {
   "cell_type": "code",
   "execution_count": 16,
   "id": "810c2a3c",
   "metadata": {},
   "outputs": [
    {
     "data": {
      "text/plain": [
       "array([[1, 0, 0, 0, 0, 0, 0, 0, 0, 0, 0, 1, 0, 0, 0, 0]])"
      ]
     },
     "execution_count": 16,
     "metadata": {},
     "output_type": "execute_result"
    }
   ],
   "source": [
    "vect.transform([\"I have an NLP company worth an awesome billion\"]).toarray()"
   ]
  },
  {
   "cell_type": "markdown",
   "id": "7131893b",
   "metadata": {},
   "source": [
    "## Task 2"
   ]
  },
  {
   "cell_type": "code",
   "execution_count": 28,
   "id": "778c309c",
   "metadata": {},
   "outputs": [],
   "source": [
    "from sklearn.metrics.pairwise import cosine_similarity\n",
    "sim = cosine_similarity((vect.transform([\"ML is an elective subject now\"]).toarray()),vect.transform([\"NLP is an attractive career now\"]).toarray())"
   ]
  },
  {
   "cell_type": "code",
   "execution_count": 30,
   "id": "7dfb7a40",
   "metadata": {},
   "outputs": [
    {
     "name": "stdout",
     "output_type": "stream",
     "text": [
      "[[0.70710678]]\n"
     ]
    }
   ],
   "source": [
    "print(sim)"
   ]
  },
  {
   "cell_type": "code",
   "execution_count": 31,
   "id": "e067c3d0",
   "metadata": {},
   "outputs": [
    {
     "data": {
      "text/plain": [
       "array([[0, 0, 0, 0, 0, 0, 0, 0, 1, 0, 0, 0, 0, 0, 0, 0]])"
      ]
     },
     "execution_count": 31,
     "metadata": {},
     "output_type": "execute_result"
    }
   ],
   "source": [
    "vect.transform([\"ML is an elective subject now\"]).toarray()"
   ]
  },
  {
   "cell_type": "code",
   "execution_count": 32,
   "id": "89492f3d",
   "metadata": {},
   "outputs": [
    {
     "data": {
      "text/plain": [
       "array([[0, 0, 0, 0, 0, 0, 0, 0, 1, 0, 0, 1, 0, 0, 0, 0]])"
      ]
     },
     "execution_count": 32,
     "metadata": {},
     "output_type": "execute_result"
    }
   ],
   "source": [
    "vect.transform([\"NLP is an attractive career now\"]).toarray()"
   ]
  }
 ],
 "metadata": {
  "kernelspec": {
   "display_name": "Python 3 (ipykernel)",
   "language": "python",
   "name": "python3"
  },
  "language_info": {
   "codemirror_mode": {
    "name": "ipython",
    "version": 3
   },
   "file_extension": ".py",
   "mimetype": "text/x-python",
   "name": "python",
   "nbconvert_exporter": "python",
   "pygments_lexer": "ipython3",
   "version": "3.9.13"
  }
 },
 "nbformat": 4,
 "nbformat_minor": 5
}
