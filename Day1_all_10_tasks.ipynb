{
 "cells": [
  {
   "cell_type": "markdown",
   "id": "ed87d7c6",
   "metadata": {},
   "source": [
    "## Task 1: Installation \n"
   ]
  },
  {
   "cell_type": "code",
   "execution_count": 8,
   "id": "a301f0b9",
   "metadata": {},
   "outputs": [],
   "source": [
    "import nltk"
   ]
  },
  {
   "cell_type": "code",
   "execution_count": null,
   "id": "f5140450",
   "metadata": {},
   "outputs": [],
   "source": [
    "nltk.download()"
   ]
  },
  {
   "cell_type": "code",
   "execution_count": 1,
   "id": "81704472",
   "metadata": {},
   "outputs": [],
   "source": [
    "from nltk.corpus import brown"
   ]
  },
  {
   "cell_type": "markdown",
   "id": "ec40b6bd",
   "metadata": {},
   "source": [
    "## Task 2: (speech by Lincoln )"
   ]
  },
  {
   "cell_type": "code",
   "execution_count": 11,
   "id": "ab78473c",
   "metadata": {},
   "outputs": [],
   "source": [
    "import nltk"
   ]
  },
  {
   "cell_type": "code",
   "execution_count": 12,
   "id": "aca63cce",
   "metadata": {},
   "outputs": [],
   "source": [
    "from nltk.corpus import brown"
   ]
  },
  {
   "cell_type": "code",
   "execution_count": 13,
   "id": "bd6b9bd3",
   "metadata": {},
   "outputs": [
    {
     "data": {
      "text/plain": [
       "['adventure',\n",
       " 'belles_lettres',\n",
       " 'editorial',\n",
       " 'fiction',\n",
       " 'government',\n",
       " 'hobbies',\n",
       " 'humor',\n",
       " 'learned',\n",
       " 'lore',\n",
       " 'mystery',\n",
       " 'news',\n",
       " 'religion',\n",
       " 'reviews',\n",
       " 'romance',\n",
       " 'science_fiction']"
      ]
     },
     "execution_count": 13,
     "metadata": {},
     "output_type": "execute_result"
    }
   ],
   "source": [
    "brown.categories()"
   ]
  },
  {
   "cell_type": "markdown",
   "id": "04e2a711",
   "metadata": {},
   "source": [
    "## Task 3: (Importing libraries)"
   ]
  },
  {
   "cell_type": "code",
   "execution_count": 5,
   "id": "5ec84b47",
   "metadata": {},
   "outputs": [],
   "source": [
    "from nltk.corpus import inaugural"
   ]
  },
  {
   "cell_type": "code",
   "execution_count": 9,
   "id": "845063d7",
   "metadata": {},
   "outputs": [
    {
     "data": {
      "text/plain": [
       "['Fellow',\n",
       " '-',\n",
       " 'Citizens',\n",
       " 'of',\n",
       " 'the',\n",
       " 'United',\n",
       " 'States',\n",
       " ':',\n",
       " 'In',\n",
       " 'compliance']"
      ]
     },
     "execution_count": 9,
     "metadata": {},
     "output_type": "execute_result"
    }
   ],
   "source": [
    "inaugural.words(fileids='1861-lincoln.txt')[:10]"
   ]
  },
  {
   "cell_type": "markdown",
   "id": "920ed25b",
   "metadata": {},
   "source": [
    "## Task 4: (Frequency dist.)"
   ]
  },
  {
   "cell_type": "code",
   "execution_count": 4,
   "id": "e4505905",
   "metadata": {},
   "outputs": [],
   "source": [
    "import nltk"
   ]
  },
  {
   "cell_type": "code",
   "execution_count": 8,
   "id": "01e14f02",
   "metadata": {},
   "outputs": [
    {
     "data": {
      "text/plain": [
       "FreqDist({'the': 4, 'kW)': 3, 'Ninja': 2, 'H2R': 2, 'fastest': 2, 'and': 2, 'a': 2, 'of': 2, 'horsepower': 2, 'with': 2, ...})"
      ]
     },
     "execution_count": 8,
     "metadata": {},
     "output_type": "execute_result"
    }
   ],
   "source": [
    "text1 = 'Its Ninja H2R track-only variant is the fastest and most powerful production motorcycle on the market, producing a maximum of 310 horsepower (230 kW) and 326 horsepower (243 kW) with ram-air.[1] The H2R has 50% more power than the fastest street-legal motorcycles,[which?] while the street-legal Ninja H2 has a lower power output of 200 hp (150 kW)[21]–210 hp (160 kW) with ram-air.'\n",
    "fd = nltk.FreqDist(text1.split())\n",
    "fd"
   ]
  },
  {
   "cell_type": "markdown",
   "id": "48dda0a2",
   "metadata": {},
   "source": [
    "##  Task 5: (Conditional frequency) "
   ]
  },
  {
   "cell_type": "code",
   "execution_count": 6,
   "id": "d8ad3bfc",
   "metadata": {},
   "outputs": [],
   "source": [
    "from nltk.probability import ConditionalFreqDist"
   ]
  },
  {
   "cell_type": "code",
   "execution_count": 9,
   "id": "f0140cc1",
   "metadata": {},
   "outputs": [
    {
     "data": {
      "text/plain": [
       "FreqDist({'with': 2, 'most': 1, '(230': 1, '(243': 1, 'more': 1, 'than': 1, '(150': 1, '(160': 1})"
      ]
     },
     "execution_count": 9,
     "metadata": {},
     "output_type": "execute_result"
    }
   ],
   "source": [
    "cfd = ConditionalFreqDist((len(word),word) for word in text1.split())\n",
    "cfd[4]"
   ]
  },
  {
   "cell_type": "markdown",
   "id": "9b49757d",
   "metadata": {},
   "source": [
    "## Task 6 and Task 7: (determine frequency distrbution and Conditional Frequency Distribution of any one of the Presidential addresses.)"
   ]
  },
  {
   "cell_type": "code",
   "execution_count": 13,
   "id": "8537a63b",
   "metadata": {},
   "outputs": [],
   "source": [
    "from nltk.corpus import inaugural\n",
    "cfd = ConditionalFreqDist((len(word),word) for word in inaugural.words(fileids='1861-lincoln.txt'))"
   ]
  },
  {
   "cell_type": "code",
   "execution_count": 14,
   "id": "e8b87f3e",
   "metadata": {},
   "outputs": [
    {
     "data": {
      "text/plain": [
       "<ConditionalFreqDist with 16 conditions>"
      ]
     },
     "execution_count": 14,
     "metadata": {},
     "output_type": "execute_result"
    }
   ],
   "source": [
    "cfd"
   ]
  },
  {
   "cell_type": "code",
   "execution_count": 15,
   "id": "fd09ee4c",
   "metadata": {},
   "outputs": [
    {
     "data": {
      "text/plain": [
       "FreqDist({'that': 57, 'will': 25, 'this': 23, 'with': 20, 'have': 20, 'from': 16, 'such': 15, 'upon': 15, 'them': 13, 'than': 13, ...})"
      ]
     },
     "execution_count": 15,
     "metadata": {},
     "output_type": "execute_result"
    }
   ],
   "source": [
    "cfd[4]"
   ]
  },
  {
   "cell_type": "code",
   "execution_count": 18,
   "id": "7cdb0fa8",
   "metadata": {},
   "outputs": [
    {
     "data": {
      "text/plain": [
       "FreqDist({'the': 240, ',': 195, 'of': 146, 'to': 132, '.': 110, 'and': 101, 'be': 76, 'in': 72, 'that': 57, 'a': 53, ...})"
      ]
     },
     "execution_count": 18,
     "metadata": {},
     "output_type": "execute_result"
    }
   ],
   "source": [
    "word = nltk.FreqDist(inaugural.words(fileids = '1861-lincoln.txt'))\n",
    "word"
   ]
  },
  {
   "cell_type": "markdown",
   "id": "30f8c02d",
   "metadata": {},
   "source": [
    "## Task 8: (Installing jieba)"
   ]
  },
  {
   "cell_type": "code",
   "execution_count": 19,
   "id": "5fc55ebb",
   "metadata": {},
   "outputs": [
    {
     "name": "stdout",
     "output_type": "stream",
     "text": [
      "Collecting jieba\n",
      "  Downloading jieba-0.42.1.tar.gz (19.2 MB)\n",
      "\u001b[2K     \u001b[90m━━━━━━━━━━━━━━━━━━━━━━━━━━━━━━━━━━━━━━━\u001b[0m \u001b[32m19.2/19.2 MB\u001b[0m \u001b[31m546.4 kB/s\u001b[0m eta \u001b[36m0:00:00\u001b[0m00:01\u001b[0m00:01\u001b[0m\n",
      "\u001b[?25h  Preparing metadata (setup.py) ... \u001b[?25ldone\n",
      "\u001b[?25hBuilding wheels for collected packages: jieba\n",
      "  Building wheel for jieba (setup.py) ... \u001b[?25ldone\n",
      "\u001b[?25h  Created wheel for jieba: filename=jieba-0.42.1-py3-none-any.whl size=19314459 sha256=427c4342887f80b9c9ca4bac3b8f0bdd2e848fd12fc6792b2373e4d3e1960a7f\n",
      "  Stored in directory: /Users/diwesh/Library/Caches/pip/wheels/7d/74/cf/08c94db4b784e2c1ef675a600b7b5b281fd25240dcb954ee7e\n",
      "Successfully built jieba\n",
      "Installing collected packages: jieba\n",
      "Successfully installed jieba-0.42.1\n",
      "Note: you may need to restart the kernel to use updated packages.\n"
     ]
    }
   ],
   "source": [
    "pip install jieba"
   ]
  },
  {
   "cell_type": "code",
   "execution_count": 2,
   "id": "dc8fd45d",
   "metadata": {},
   "outputs": [
    {
     "name": "stdout",
     "output_type": "stream",
     "text": [
      "\n"
     ]
    }
   ],
   "source": [
    "import jieba\n",
    "seg = jieba.cut(\"\",cut_all = True)\n",
    "print(\" \".join(seg))"
   ]
  },
  {
   "cell_type": "markdown",
   "id": "b43fac73",
   "metadata": {},
   "source": [
    "## Task 9: (Basic text processing Pipeline)"
   ]
  },
  {
   "cell_type": "code",
   "execution_count": 4,
   "id": "9e8d74a9",
   "metadata": {},
   "outputs": [],
   "source": [
    "import nltk"
   ]
  },
  {
   "cell_type": "code",
   "execution_count": 5,
   "id": "77869918",
   "metadata": {},
   "outputs": [
    {
     "name": "stdout",
     "output_type": "stream",
     "text": [
      "['Its', 'Ninja', 'H2R', 'track-only', 'variant', 'is', 'the', 'fastest', 'and', 'most', 'powerful', 'production', 'motorcycle', 'on', 'the', 'market', ',', 'producing', 'a', 'maximum', 'of', '310', 'horsepower', '(', '230', 'kW', ')', 'and', '326', 'horsepower', '(', '243', 'kW', ')', 'with', 'ram-air', '.', '[', '1', ']', 'The', 'H2R', 'has', '50', '%', 'more', 'power', 'than', 'the', 'fastest', 'street-legal', 'motorcycles', ',', '[', 'which', '?', ']', 'while', 'the', 'street-legal', 'Ninja', 'H2', 'has', 'a', 'lower', 'power', 'output', 'of', '200', 'hp', '(', '150', 'kW', ')', '[', '21', ']', '–210', 'hp', '(', '160', 'kW', ')', 'with', 'ram-air', '.']\n"
     ]
    }
   ],
   "source": [
    "sent = \"Its Ninja H2R track-only variant is the fastest and most powerful production motorcycle on the market, producing a maximum of 310 horsepower (230 kW) and 326 horsepower (243 kW) with ram-air.[1] The H2R has 50% more power than the fastest street-legal motorcycles,[which?] while the street-legal Ninja H2 has a lower power output of 200 hp (150 kW)[21]–210 hp (160 kW) with ram-air.\"\n",
    "words=nltk.word_tokenize(sent)\n",
    "print(words)"
   ]
  },
  {
   "cell_type": "markdown",
   "id": "2ffba66f",
   "metadata": {},
   "source": [
    "## Task 10"
   ]
  },
  {
   "cell_type": "code",
   "execution_count": 7,
   "id": "27cd016b",
   "metadata": {},
   "outputs": [
    {
     "name": "stdout",
     "output_type": "stream",
     "text": [
      "['Its', 'Ninja', 'H2R', 'track-only', 'variant', 'is', 'the', 'fastest', 'and', 'most', 'powerful', 'production', 'motorcycle', 'on', 'the', 'market', ',', 'producing', 'a', 'maximum', 'of', '310', 'horsepower', '(', '230', 'kW', ')', 'and', '326', 'horsepower', '(', '243', 'kW', ')', 'with', 'ram-air', '.']\n",
      "[('Its', 'PRP$'), ('Ninja', 'NNP'), ('H2R', 'NNP'), ('track-only', 'JJ'), ('variant', 'NN'), ('is', 'VBZ'), ('the', 'DT'), ('fastest', 'JJS'), ('and', 'CC'), ('most', 'RBS'), ('powerful', 'JJ'), ('production', 'NN'), ('motorcycle', 'NN'), ('on', 'IN'), ('the', 'DT'), ('market', 'NN'), (',', ','), ('producing', 'VBG'), ('a', 'DT'), ('maximum', 'NN'), ('of', 'IN'), ('310', 'CD'), ('horsepower', 'NN'), ('(', '('), ('230', 'CD'), ('kW', 'NN'), (')', ')'), ('and', 'CC'), ('326', 'CD'), ('horsepower', 'NN'), ('(', '('), ('243', 'CD'), ('kW', 'NN'), (')', ')'), ('with', 'IN'), ('ram-air', 'NN'), ('.', '.')]\n",
      "['[', '1', ']', 'The', 'H2R', 'has', '50', '%', 'more', 'power', 'than', 'the', 'fastest', 'street-legal', 'motorcycles', ',', '[', 'which', '?', ']']\n",
      "[('[', 'RB'), ('1', 'CD'), (']', 'VBD'), ('The', 'DT'), ('H2R', 'NNP'), ('has', 'VBZ'), ('50', 'CD'), ('%', 'NN'), ('more', 'JJR'), ('power', 'NN'), ('than', 'IN'), ('the', 'DT'), ('fastest', 'JJS'), ('street-legal', 'JJ'), ('motorcycles', 'NNS'), (',', ','), ('[', 'NN'), ('which', 'WDT'), ('?', '.'), (']', 'NN')]\n",
      "['while', 'the', 'street-legal', 'Ninja', 'H2', 'has', 'a', 'lower', 'power', 'output', 'of', '200', 'hp', '(', '150', 'kW', ')', '[', '21', ']', '–210', 'hp', '(', '160', 'kW', ')', 'with', 'ram-air', '.']\n",
      "[('while', 'IN'), ('the', 'DT'), ('street-legal', 'JJ'), ('Ninja', 'NNP'), ('H2', 'NNP'), ('has', 'VBZ'), ('a', 'DT'), ('lower', 'JJR'), ('power', 'NN'), ('output', 'NN'), ('of', 'IN'), ('200', 'CD'), ('hp', 'NN'), ('(', '('), ('150', 'CD'), ('kW', 'NN'), (')', ')'), ('[', 'VBZ'), ('21', 'CD'), (']', 'NN'), ('–210', 'NN'), ('hp', 'NN'), ('(', '('), ('160', 'CD'), ('kW', 'NN'), (')', ')'), ('with', 'IN'), ('ram-air', 'NN'), ('.', '.')]\n"
     ]
    }
   ],
   "source": [
    "texts = [\"\"\"Its Ninja H2R track-only variant is the fastest and most powerful production motorcycle on the market, producing a maximum of 310 horsepower (230 kW) and 326 horsepower (243 kW) with ram-air.[1] The H2R has 50% more power than the fastest street-legal motorcycles,[which?] while the street-legal Ninja H2 has a lower power output of 200 hp (150 kW)[21]–210 hp (160 kW) with ram-air.\"\"\"]\n",
    "for text in texts:\n",
    "    sentences = nltk.sent_tokenize(text)\n",
    "    for sentence in sentences:\n",
    "        words = nltk.word_tokenize(sentence)\n",
    "        print(words)\n",
    "        tagged = nltk.pos_tag(words)\n",
    "        print(tagged)"
   ]
  },
  {
   "cell_type": "code",
   "execution_count": null,
   "id": "b9500170",
   "metadata": {},
   "outputs": [],
   "source": []
  }
 ],
 "metadata": {
  "kernelspec": {
   "display_name": "Python 3 (ipykernel)",
   "language": "python",
   "name": "python3"
  },
  "language_info": {
   "codemirror_mode": {
    "name": "ipython",
    "version": 3
   },
   "file_extension": ".py",
   "mimetype": "text/x-python",
   "name": "python",
   "nbconvert_exporter": "python",
   "pygments_lexer": "ipython3",
   "version": "3.9.13"
  }
 },
 "nbformat": 4,
 "nbformat_minor": 5
}
