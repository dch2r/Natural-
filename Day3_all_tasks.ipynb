{
 "cells": [
  {
   "cell_type": "markdown",
   "id": "56e11339",
   "metadata": {},
   "source": [
    "## Web scraping"
   ]
  },
  {
   "cell_type": "code",
   "execution_count": 1,
   "id": "26b2a58b",
   "metadata": {},
   "outputs": [],
   "source": [
    "from urllib import request"
   ]
  },
  {
   "cell_type": "code",
   "execution_count": 58,
   "id": "262680a7",
   "metadata": {},
   "outputs": [],
   "source": [
    "url = \"https://gutenberg.org/cache/epub/69938/pg69938.txt\""
   ]
  },
  {
   "cell_type": "code",
   "execution_count": 59,
   "id": "415cc1ce",
   "metadata": {},
   "outputs": [],
   "source": [
    "response = request.urlopen(url)"
   ]
  },
  {
   "cell_type": "code",
   "execution_count": 60,
   "id": "1b7e0438",
   "metadata": {},
   "outputs": [],
   "source": [
    "raw = response.read().decode('utf8')"
   ]
  },
  {
   "cell_type": "code",
   "execution_count": 61,
   "id": "6d52a208",
   "metadata": {},
   "outputs": [],
   "source": [
    "import nltk\n",
    "from nltk.tokenize import word_tokenize\n",
    "tokens = word_tokenize(raw)"
   ]
  },
  {
   "cell_type": "code",
   "execution_count": 63,
   "id": "47856aa8",
   "metadata": {},
   "outputs": [
    {
     "name": "stdout",
     "output_type": "stream",
     "text": [
      "['\\ufeffThe', 'Project', 'Gutenberg', 'eBook', 'of', 'Told', 'in', 'the', 'twilight', ',', 'by', 'F.', 'E.', 'Weatherly', 'This', 'eBook', 'is', 'for', 'the', 'use', 'of', 'anyone', 'anywhere', 'in', 'the', 'United', 'States', 'and', 'most', 'other', 'parts', 'of', 'the', 'world', 'at', 'no', 'cost', 'and', 'with', 'almost', 'no', 'restrictions', 'whatsoever', '.', 'You', 'may', 'copy', 'it', ',', 'give', 'it', 'away', 'or', 're-use', 'it', 'under', 'the', 'terms', 'of', 'the', 'Project', 'Gutenberg', 'License', 'included', 'with', 'this', 'eBook', 'or', 'online', 'at', 'www.gutenberg.org', '.', 'If', 'you', 'are', 'not', 'located', 'in', 'the', 'United', 'States', ',', 'you', 'will', 'have', 'to', 'check', 'the', 'laws', 'of', 'the', 'country', 'where', 'you', 'are', 'located', 'before', 'using', 'this', 'eBook', '.', 'Title', ':', 'Told', 'in', 'the', 'twilight', 'Author', ':', 'F.', 'E.', 'Weatherly', 'Illustrators', ':', 'M.', 'Ellen', 'Edwards', 'John', 'C.', 'Staples', 'Release', 'Date', ':', 'February', '3', ',', '2023', '[', 'eBook', '#', '69938', ']', 'Language', ':', 'English', 'Produced', 'by', ':', 'Charlene', 'Taylor', 'and', 'the', 'Online', 'Distributed', 'Proofreading', 'Team', 'at', 'https', ':', '//www.pgdp.net', '(', 'This', 'file', 'was', 'produced', 'from', 'images', 'generously', 'made', 'available', 'by', 'The', 'Internet', 'Archive/American', 'Libraries', '.', ')', '*', '*', '*', 'START', 'OF', 'THE', 'PROJECT', 'GUTENBERG', 'EBOOK', 'TOLD', 'IN', 'THE', 'TWILIGHT', '*', '*', '*', '[', 'Illustration', ']', '[', 'Illustration', ':', 'Told', 'in', 'the', 'Twilight', ']', '[', 'Illustration', ']', '[', 'Illustration', ':']\n"
     ]
    }
   ],
   "source": [
    "print(tokens[:200])"
   ]
  },
  {
   "cell_type": "markdown",
   "id": "1e9ee477",
   "metadata": {},
   "source": [
    "# Task 2:\n",
    "#BeautifulSooup\n",
    "##Preprocessing - RE to clean any html tags or unnecessary\n",
    "##POStagging"
   ]
  },
  {
   "cell_type": "code",
   "execution_count": 32,
   "id": "38799c26",
   "metadata": {},
   "outputs": [
    {
     "data": {
      "text/plain": [
       "'sing'"
      ]
     },
     "execution_count": 32,
     "metadata": {},
     "output_type": "execute_result"
    }
   ],
   "source": [
    "import nltk\n",
    "from nltk.stem import LancasterStemmer\n",
    "porter= PorterStemmer()\n",
    "porter.stem('singing')\n",
    "# happiness #joyous #cacti #singing\n",
    "#stemers: LancasterStemmer, PorterStemmer"
   ]
  },
  {
   "cell_type": "markdown",
   "id": "f1f7fec5",
   "metadata": {},
   "source": [
    "# Task 3"
   ]
  },
  {
   "cell_type": "code",
   "execution_count": 38,
   "id": "3c4b73c2",
   "metadata": {},
   "outputs": [
    {
     "data": {
      "text/plain": [
       "'sing'"
      ]
     },
     "execution_count": 38,
     "metadata": {},
     "output_type": "execute_result"
    }
   ],
   "source": [
    "import nltk\n",
    "from nltk.stem import RegexpStemmer\n",
    "porter= RegexpStemmer('ing$')\n",
    "porter.stem('singing')"
   ]
  },
  {
   "cell_type": "markdown",
   "id": "12e43c42",
   "metadata": {},
   "source": [
    "## Task 4"
   ]
  },
  {
   "cell_type": "code",
   "execution_count": 54,
   "id": "af94b794",
   "metadata": {},
   "outputs": [
    {
     "data": {
      "text/plain": [
       "'gust'"
      ]
     },
     "execution_count": 54,
     "metadata": {},
     "output_type": "execute_result"
    }
   ],
   "source": [
    "import nltk\n",
    "from nltk.stem import SnowballStemmer\n",
    "snow = SnowballStemmer('spanish')\n",
    "snow.stem('gustan')"
   ]
  },
  {
   "cell_type": "markdown",
   "id": "223aaaa7",
   "metadata": {},
   "source": [
    "## Task 5"
   ]
  },
  {
   "cell_type": "code",
   "execution_count": 75,
   "id": "32fb27cb",
   "metadata": {},
   "outputs": [],
   "source": [
    "#from nltk.stem import PortStemmer\n",
    "porter = PorterStemmer()\n",
    "text = \"This eBook is for the use of anyone anywhere in the United States and most other parts of the world at no cost and with almost no restrictions whatsoever. You may copy it, give it away or re-use it under the terms of the Project Gutenberg License included with this eBook or online at www.gutenberg.org. If you are not located in the United States you will have to check the laws of the country where you are located before using this eBook.\"\n",
    "stemmed = [porter.stem(token) for token in text.split(\" \")]"
   ]
  },
  {
   "cell_type": "code",
   "execution_count": 76,
   "id": "b0e83521",
   "metadata": {},
   "outputs": [
    {
     "name": "stdout",
     "output_type": "stream",
     "text": [
      "['thi', 'ebook', 'is', 'for', 'the', 'use', 'of', 'anyon', 'anywher', 'in', 'the', 'unit', 'state', 'and', 'most', 'other', 'part', 'of', 'the', 'world', 'at', 'no', 'cost', 'and', 'with', 'almost', 'no', 'restrict', 'whatsoever.', 'you', 'may', 'copi', 'it,', 'give', 'it', 'away', 'or', 're-us', 'it', 'under', 'the', 'term', 'of', 'the', 'project', 'gutenberg', 'licens', 'includ', 'with', 'thi']\n"
     ]
    }
   ],
   "source": [
    "print(stemmed[:50])"
   ]
  },
  {
   "cell_type": "markdown",
   "id": "67f60f7e",
   "metadata": {},
   "source": [
    "## Task 6"
   ]
  },
  {
   "cell_type": "code",
   "execution_count": 80,
   "id": "e6dd1260",
   "metadata": {},
   "outputs": [],
   "source": [
    "from nltk.stem import WordNetLemmatizer\n",
    "lemma = WordNetLemmatizer()"
   ]
  },
  {
   "cell_type": "code",
   "execution_count": 81,
   "id": "1cb0073b",
   "metadata": {},
   "outputs": [
    {
     "name": "stdout",
     "output_type": "stream",
     "text": [
      "be\n"
     ]
    }
   ],
   "source": [
    "print(lemma.lemmatize(\"am\",pos='v'))"
   ]
  },
  {
   "cell_type": "code",
   "execution_count": 82,
   "id": "be237348",
   "metadata": {},
   "outputs": [
    {
     "data": {
      "text/plain": [
       "'cactus'"
      ]
     },
     "execution_count": 82,
     "metadata": {},
     "output_type": "execute_result"
    }
   ],
   "source": [
    "lemma.lemmatize('cacti')"
   ]
  },
  {
   "cell_type": "code",
   "execution_count": 84,
   "id": "c59ec2cc",
   "metadata": {},
   "outputs": [
    {
     "data": {
      "text/plain": [
       "'pre'"
      ]
     },
     "execution_count": 84,
     "metadata": {},
     "output_type": "execute_result"
    }
   ],
   "source": [
    "lemma.lemmatize('pre')"
   ]
  },
  {
   "cell_type": "code",
   "execution_count": 85,
   "id": "970e10db",
   "metadata": {},
   "outputs": [
    {
     "data": {
      "text/plain": [
       "'priori'"
      ]
     },
     "execution_count": 85,
     "metadata": {},
     "output_type": "execute_result"
    }
   ],
   "source": [
    "lemma.lemmatize('priori')"
   ]
  }
 ],
 "metadata": {
  "kernelspec": {
   "display_name": "Python 3 (ipykernel)",
   "language": "python",
   "name": "python3"
  },
  "language_info": {
   "codemirror_mode": {
    "name": "ipython",
    "version": 3
   },
   "file_extension": ".py",
   "mimetype": "text/x-python",
   "name": "python",
   "nbconvert_exporter": "python",
   "pygments_lexer": "ipython3",
   "version": "3.9.13"
  }
 },
 "nbformat": 4,
 "nbformat_minor": 5
}
